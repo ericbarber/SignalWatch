{
 "cells": [
  {
   "cell_type": "code",
   "execution_count": null,
   "id": "620ff795-1e7b-499b-a243-ac1398e1b7d7",
   "metadata": {},
   "outputs": [],
   "source": [
    "# !pip install matplotlib"
   ]
  },
  {
   "cell_type": "markdown",
   "id": "7f496950-b3a1-480e-84d5-a63dae921a3c",
   "metadata": {},
   "source": [
    "# XMR Control Analysis in Temperature Tolarant Systems"
   ]
  },
  {
   "cell_type": "markdown",
   "id": "3d37f7b9-2199-4d14-8ea9-40c34d8efd1f",
   "metadata": {},
   "source": [
    "## Import"
   ]
  },
  {
   "cell_type": "code",
   "execution_count": null,
   "id": "d4a9c9b6-44c0-4466-b6b3-327ed360a2d8",
   "metadata": {},
   "outputs": [],
   "source": [
    "import warnings\n",
    "warnings.filterwarnings('ignore')"
   ]
  },
  {
   "cell_type": "code",
   "execution_count": null,
   "id": "1955b05e-332d-477c-8e71-a2b9b33e6bfe",
   "metadata": {},
   "outputs": [],
   "source": [
    "import sys\n",
    "import os\n",
    "\n",
    "# Move the current working directory to SignalWatch root directory\n",
    "project_root = os.path.abspath(os.path.join(os.getcwd(), '../..'))\n",
    "\n",
    "# Add the project root to the sys.path\n",
    "if project_root not in sys.path:\n",
    "    sys.path.append(project_root)"
   ]
  },
  {
   "cell_type": "code",
   "execution_count": null,
   "id": "fc816877-807e-4e07-85ef-94aad0a67f6d",
   "metadata": {},
   "outputs": [],
   "source": [
    "import pandas as pd\n",
    "from pyspark.sql import SparkSession\n",
    "import matplotlib.pyplot as plt\n",
    "\n",
    "from control.control_chart import ControlChart"
   ]
  },
  {
   "cell_type": "markdown",
   "id": "87d876fc-d640-4b13-8ab4-e36b91cc9b1d",
   "metadata": {},
   "source": [
    "## Spark Session Creation"
   ]
  },
  {
   "cell_type": "code",
   "execution_count": null,
   "id": "f2fc4db3-ce0b-47ab-8de3-578c4f5c347d",
   "metadata": {},
   "outputs": [],
   "source": [
    "# New Spark Session\n",
    "spark = SparkSession.builder.appName('ControlAnalysis').getOrCreate()"
   ]
  },
  {
   "cell_type": "code",
   "execution_count": null,
   "id": "6cf46d18-96cf-4996-85c5-e8131e4aa61e",
   "metadata": {},
   "outputs": [],
   "source": [
    "# Read the Parquet file into a Spark DataFrame\n",
    "df = spark.read.parquet('./scripts/data/parquet/temperature_data_high.parquet')"
   ]
  },
  {
   "cell_type": "code",
   "execution_count": null,
   "id": "25d1a639-2928-427d-8199-af2ee6321db4",
   "metadata": {},
   "outputs": [],
   "source": [
    "# Example Usage:\n",
    "# Assuming df is a PySpark DataFrame with 'Index' as the time column and 'Temp_F' as the value column\n",
    "chart = ControlChart(df, 'Temp_F', 'Index')"
   ]
  },
  {
   "cell_type": "code",
   "execution_count": null,
   "id": "c16dcac8-87cb-40e8-b128-9ad9c9f98506",
   "metadata": {},
   "outputs": [],
   "source": [
    "## First iteration of control check\n",
    "first_result_df = chart.run_first_control_chart(chart_type='xmr')\n",
    "# first_result_df.show()"
   ]
  },
  {
   "cell_type": "markdown",
   "id": "eb443cf0-dc00-4c4e-9138-d7c61d9980c6",
   "metadata": {},
   "source": [
    "## Visualize First Iteration of Process Analysis"
   ]
  },
  {
   "cell_type": "code",
   "execution_count": null,
   "id": "f6cfaad8-e7f2-432e-a291-907c59463289",
   "metadata": {},
   "outputs": [],
   "source": [
    "# Converting to DataFrame\n",
    "first_result_pdf = first_result_df.toPandas()\n",
    "# df = pd.DataFrame(data)\n",
    "\n",
    "# Plotting the XMR chart\n",
    "plt.figure(figsize=(12, 6))\n",
    "plt.plot(first_result_pdf['Index'], first_result_pdf['Temp_F'], marker='o', label='Temperature (F)')\n",
    "plt.axhline(y=first_result_pdf['UCL'][0], color='r', linestyle='--', label='UCL')\n",
    "plt.axhline(y=first_result_pdf['LCL'][0], color='r', linestyle='--', label='LCL')\n",
    "plt.axhline(y=first_result_pdf['CL'][0], color='g', linestyle='-', label='CL')\n",
    "\n",
    "# Highlighting out-of-control points\n",
    "out_of_control_points = first_result_pdf[first_result_pdf['out_of_control'] == True]\n",
    "plt.scatter(out_of_control_points['Index'], out_of_control_points['Temp_F'], color='red', label='Out of Control', zorder=5)\n",
    "\n",
    "plt.title('XMR Control Chart')\n",
    "plt.xlabel('Index')\n",
    "plt.ylabel('Temperature (F)')\n",
    "plt.legend()\n",
    "plt.grid(True)\n",
    "plt.show()"
   ]
  },
  {
   "cell_type": "markdown",
   "id": "01262724-b501-43f5-a87e-df317423a705",
   "metadata": {},
   "source": [
    "## Complete control analysis"
   ]
  },
  {
   "cell_type": "code",
   "execution_count": null,
   "id": "16da21d2-c4a4-493c-aea4-5d923eb12492",
   "metadata": {},
   "outputs": [],
   "source": [
    "# complete control analysis\n",
    "control_result_df, removed_point_df = chart.run_control_chart(chart_type='xmr')"
   ]
  },
  {
   "cell_type": "markdown",
   "id": "1774cc75-5982-45ea-b424-7b5231459c3f",
   "metadata": {},
   "source": [
    "## Control Chart"
   ]
  },
  {
   "cell_type": "code",
   "execution_count": null,
   "id": "e3454cb9-4441-4a67-894b-e7496a92ce73",
   "metadata": {},
   "outputs": [],
   "source": [
    "# Converting to DataFrame\n",
    "control_result_pdf = control_result_df.toPandas()\n",
    "# df = pd.DataFrame(data)\n",
    "\n",
    "# Plotting the XMR chart\n",
    "plt.figure(figsize=(12, 6))\n",
    "plt.plot(control_result_pdf['Index'], control_result_pdf['Temp_F'], marker='o', label='Temperature (F)')\n",
    "plt.axhline(y=control_result_pdf['UCL'][0], color='r', linestyle='--', label='UCL')\n",
    "plt.axhline(y=control_result_pdf['LCL'][0], color='r', linestyle='--', label='LCL')\n",
    "plt.axhline(y=control_result_pdf['CL'][0], color='g', linestyle='-', label='CL')\n",
    "\n",
    "# Highlighting out-of-control points\n",
    "out_of_control_points = control_result_pdf[control_result_pdf['out_of_control'] == True]\n",
    "plt.scatter(out_of_control_points['Index'], out_of_control_points['Temp_F'], color='red', label='Out of Control', zorder=5)\n",
    "\n",
    "plt.title('XMR Control Chart')\n",
    "plt.xlabel('Index')\n",
    "plt.ylabel('Temperature (F)')\n",
    "plt.legend()\n",
    "plt.grid(True)\n",
    "plt.show()"
   ]
  },
  {
   "cell_type": "markdown",
   "id": "8bd3d583-c378-40c0-8d93-6705331d8d0f",
   "metadata": {},
   "source": [
    "## Data Points Omitted from Control Chart Analysis"
   ]
  },
  {
   "cell_type": "code",
   "execution_count": null,
   "id": "0fc79e8d-adbf-45b0-b862-01edaffdef51",
   "metadata": {},
   "outputs": [],
   "source": [
    "# Converting to DataFrame\n",
    "removed_point_df = removed_point_df.orderBy('Index')\n",
    "removed_point_pdf = removed_point_df.toPandas()\n",
    "# df = pd.DataFrame(data)\n",
    "\n",
    "# Plotting the XMR chart\n",
    "plt.figure(figsize=(12, 6))\n",
    "# plt.plot(removed_point_pdf['Index'], removed_point_pdf['Temp_F'], marker='o', label='Temperature (F)')\n",
    "\n",
    "# Control limits from complete control analysis \n",
    "plt.axhline(y=control_result_pdf['UCL'][0], color='r', linestyle='--', label='UCL')\n",
    "plt.axhline(y=control_result_pdf['LCL'][0], color='r', linestyle='--', label='LCL')\n",
    "plt.axhline(y=control_result_pdf['CL'][0], color='g', linestyle='-', label='CL')\n",
    "\n",
    "\n",
    "# Highlighting out-of-control points\n",
    "out_of_control_points = removed_point_pdf[removed_point_pdf['out_of_control'] == True]\n",
    "plt.scatter(out_of_control_points['Index'], out_of_control_points['Temp_F'], color='red', label='Out of Control', zorder=5)\n",
    "\n",
    "plt.title('XMR Control Chart')\n",
    "plt.xlabel('Index')\n",
    "plt.ylabel('Temperature (F)')\n",
    "plt.legend()\n",
    "plt.grid(True)\n",
    "plt.show()"
   ]
  }
 ],
 "metadata": {
  "kernelspec": {
   "display_name": "Python 3 (ipykernel)",
   "language": "python",
   "name": "python3"
  },
  "language_info": {
   "codemirror_mode": {
    "name": "ipython",
    "version": 3
   },
   "file_extension": ".py",
   "mimetype": "text/x-python",
   "name": "python",
   "nbconvert_exporter": "python",
   "pygments_lexer": "ipython3",
   "version": "3.8.10"
  }
 },
 "nbformat": 4,
 "nbformat_minor": 5
}
